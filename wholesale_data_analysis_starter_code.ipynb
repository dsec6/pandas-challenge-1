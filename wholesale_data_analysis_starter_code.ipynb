{
 "cells": [
  {
   "cell_type": "markdown",
   "id": "dc0318d6",
   "metadata": {},
   "source": [
    "## Part 1: Explore the Data\n",
    "\n",
    "Import the data and use Pandas to learn more about the dataset."
   ]
  },
  {
   "cell_type": "code",
   "execution_count": 60,
   "id": "e076f57f",
   "metadata": {},
   "outputs": [
    {
     "data": {
      "text/html": [
       "<div>\n",
       "<style scoped>\n",
       "    .dataframe tbody tr th:only-of-type {\n",
       "        vertical-align: middle;\n",
       "    }\n",
       "\n",
       "    .dataframe tbody tr th {\n",
       "        vertical-align: top;\n",
       "    }\n",
       "\n",
       "    .dataframe thead th {\n",
       "        text-align: right;\n",
       "    }\n",
       "</style>\n",
       "<table border=\"1\" class=\"dataframe\">\n",
       "  <thead>\n",
       "    <tr style=\"text-align: right;\">\n",
       "      <th></th>\n",
       "      <th>first</th>\n",
       "      <th>last</th>\n",
       "      <th>job</th>\n",
       "      <th>phone</th>\n",
       "      <th>email</th>\n",
       "      <th>client_id</th>\n",
       "      <th>order_id</th>\n",
       "      <th>order_date</th>\n",
       "      <th>order_week</th>\n",
       "      <th>order_year</th>\n",
       "      <th>item_id</th>\n",
       "      <th>category</th>\n",
       "      <th>subcategory</th>\n",
       "      <th>unit_price</th>\n",
       "      <th>unit_cost</th>\n",
       "      <th>unit_weight</th>\n",
       "      <th>qty</th>\n",
       "      <th>line_number</th>\n",
       "    </tr>\n",
       "  </thead>\n",
       "  <tbody>\n",
       "    <tr>\n",
       "      <th>0</th>\n",
       "      <td>Donald</td>\n",
       "      <td>Harding</td>\n",
       "      <td>Immunologist</td>\n",
       "      <td>793-904-7725x39308</td>\n",
       "      <td>harding.donald.7185@sullivan.com</td>\n",
       "      <td>58515</td>\n",
       "      <td>8953482</td>\n",
       "      <td>2023-04-28</td>\n",
       "      <td>17</td>\n",
       "      <td>2023</td>\n",
       "      <td>EUD29711-63-6U</td>\n",
       "      <td>decor</td>\n",
       "      <td>wall art</td>\n",
       "      <td>1096.80</td>\n",
       "      <td>762.71</td>\n",
       "      <td>7.50</td>\n",
       "      <td>105</td>\n",
       "      <td>1</td>\n",
       "    </tr>\n",
       "    <tr>\n",
       "      <th>1</th>\n",
       "      <td>Tiffany</td>\n",
       "      <td>Myers</td>\n",
       "      <td>Music therapist</td>\n",
       "      <td>201.442.4543x942</td>\n",
       "      <td>myers.t.6537@ferguson-johnson.net</td>\n",
       "      <td>37609</td>\n",
       "      <td>8069089</td>\n",
       "      <td>2023-05-19</td>\n",
       "      <td>20</td>\n",
       "      <td>2023</td>\n",
       "      <td>XDA18116-89-4A</td>\n",
       "      <td>consumables</td>\n",
       "      <td>pens</td>\n",
       "      <td>24.95</td>\n",
       "      <td>15.09</td>\n",
       "      <td>1.49</td>\n",
       "      <td>21</td>\n",
       "      <td>0</td>\n",
       "    </tr>\n",
       "    <tr>\n",
       "      <th>2</th>\n",
       "      <td>Shannon</td>\n",
       "      <td>Watson</td>\n",
       "      <td>Immunologist</td>\n",
       "      <td>687.737.9424x8503</td>\n",
       "      <td>swatson8146@payne.net</td>\n",
       "      <td>57113</td>\n",
       "      <td>1902144</td>\n",
       "      <td>2023-01-29</td>\n",
       "      <td>4</td>\n",
       "      <td>2023</td>\n",
       "      <td>ABE59463-05-7E</td>\n",
       "      <td>software</td>\n",
       "      <td>project management</td>\n",
       "      <td>13.52</td>\n",
       "      <td>7.86</td>\n",
       "      <td>1.68</td>\n",
       "      <td>39</td>\n",
       "      <td>6</td>\n",
       "    </tr>\n",
       "    <tr>\n",
       "      <th>3</th>\n",
       "      <td>Nathan</td>\n",
       "      <td>Baker</td>\n",
       "      <td>Accounting technician</td>\n",
       "      <td>827-788-8123x012</td>\n",
       "      <td>bakernathan@benson.com</td>\n",
       "      <td>46554</td>\n",
       "      <td>9031802</td>\n",
       "      <td>2023-04-25</td>\n",
       "      <td>17</td>\n",
       "      <td>2023</td>\n",
       "      <td>ZMM00836-65-0C</td>\n",
       "      <td>consumables</td>\n",
       "      <td>pens</td>\n",
       "      <td>36.42</td>\n",
       "      <td>24.85</td>\n",
       "      <td>1.23</td>\n",
       "      <td>29</td>\n",
       "      <td>3</td>\n",
       "    </tr>\n",
       "    <tr>\n",
       "      <th>4</th>\n",
       "      <td>Christina</td>\n",
       "      <td>Schwartz</td>\n",
       "      <td>Chiropractor</td>\n",
       "      <td>265-829-3643</td>\n",
       "      <td>christinaschwartz9252@mcconnell.com</td>\n",
       "      <td>92089</td>\n",
       "      <td>1322274</td>\n",
       "      <td>2023-05-28</td>\n",
       "      <td>21</td>\n",
       "      <td>2023</td>\n",
       "      <td>BZX55559-12-3X</td>\n",
       "      <td>consumables</td>\n",
       "      <td>misc</td>\n",
       "      <td>195.10</td>\n",
       "      <td>108.17</td>\n",
       "      <td>46.43</td>\n",
       "      <td>20</td>\n",
       "      <td>1</td>\n",
       "    </tr>\n",
       "  </tbody>\n",
       "</table>\n",
       "</div>"
      ],
      "text/plain": [
       "       first      last                    job               phone  \\\n",
       "0     Donald   Harding           Immunologist  793-904-7725x39308   \n",
       "1    Tiffany     Myers        Music therapist    201.442.4543x942   \n",
       "2    Shannon    Watson           Immunologist   687.737.9424x8503   \n",
       "3     Nathan     Baker  Accounting technician    827-788-8123x012   \n",
       "4  Christina  Schwartz           Chiropractor        265-829-3643   \n",
       "\n",
       "                                 email  client_id  order_id  order_date  \\\n",
       "0     harding.donald.7185@sullivan.com      58515   8953482  2023-04-28   \n",
       "1    myers.t.6537@ferguson-johnson.net      37609   8069089  2023-05-19   \n",
       "2                swatson8146@payne.net      57113   1902144  2023-01-29   \n",
       "3               bakernathan@benson.com      46554   9031802  2023-04-25   \n",
       "4  christinaschwartz9252@mcconnell.com      92089   1322274  2023-05-28   \n",
       "\n",
       "   order_week  order_year         item_id     category         subcategory  \\\n",
       "0          17        2023  EUD29711-63-6U        decor            wall art   \n",
       "1          20        2023  XDA18116-89-4A  consumables                pens   \n",
       "2           4        2023  ABE59463-05-7E     software  project management   \n",
       "3          17        2023  ZMM00836-65-0C  consumables                pens   \n",
       "4          21        2023  BZX55559-12-3X  consumables                misc   \n",
       "\n",
       "   unit_price  unit_cost  unit_weight  qty  line_number  \n",
       "0     1096.80     762.71         7.50  105            1  \n",
       "1       24.95      15.09         1.49   21            0  \n",
       "2       13.52       7.86         1.68   39            6  \n",
       "3       36.42      24.85         1.23   29            3  \n",
       "4      195.10     108.17        46.43   20            1  "
      ]
     },
     "execution_count": 60,
     "metadata": {},
     "output_type": "execute_result"
    }
   ],
   "source": [
    "import pandas as pd\n",
    "import numpy as np\n",
    "\n",
    "df = pd.read_csv('Resources/client_dataset.csv')\n",
    "df.head()"
   ]
  },
  {
   "cell_type": "code",
   "execution_count": 61,
   "id": "71b9bbd2",
   "metadata": {},
   "outputs": [
    {
     "name": "stdout",
     "output_type": "stream",
     "text": [
      "Index(['first', 'last', 'job', 'phone', 'email', 'client_id', 'order_id',\n",
      "       'order_date', 'order_week', 'order_year', 'item_id', 'category',\n",
      "       'subcategory', 'unit_price', 'unit_cost', 'unit_weight', 'qty',\n",
      "       'line_number'],\n",
      "      dtype='object')\n"
     ]
    }
   ],
   "source": [
    "# View the column names in the data\n",
    "print(df.columns)"
   ]
  },
  {
   "cell_type": "code",
   "execution_count": 62,
   "id": "bc0f4172",
   "metadata": {},
   "outputs": [
    {
     "name": "stdout",
     "output_type": "stream",
     "text": [
      "          client_id      order_id    order_week    order_year    unit_price  \\\n",
      "count  54639.000000  5.463900e+04  54639.000000  54639.000000  54639.000000   \n",
      "mean   54837.869416  5.470190e+06     11.359139   2022.993064    136.267207   \n",
      "std    25487.438231  2.599807e+06      7.023499      0.082997    183.873135   \n",
      "min    10033.000000  1.000886e+06      1.000000   2022.000000      0.010000   \n",
      "25%    33593.000000  3.196372e+06      6.000000   2023.000000     20.800000   \n",
      "50%    53305.000000  5.496966e+06     11.000000   2023.000000     68.310000   \n",
      "75%    78498.000000  7.733869e+06     17.000000   2023.000000    173.160000   \n",
      "max    99984.000000  9.998480e+06     52.000000   2023.000000   1396.230000   \n",
      "\n",
      "          unit_cost   unit_weight           qty   line_number  \n",
      "count  54639.000000  54639.000000  5.463900e+04  54639.000000  \n",
      "mean      99.446073      5.004116  5.702646e+02      2.979667  \n",
      "std      133.164267      5.326599  1.879552e+04      2.436320  \n",
      "min        0.010000      0.000000  0.000000e+00      0.000000  \n",
      "25%       14.840000      1.450000  3.200000e+01      1.000000  \n",
      "50%       49.890000      3.240000  6.800000e+01      3.000000  \n",
      "75%      125.570000      6.890000  1.700000e+02      5.000000  \n",
      "max      846.270000     46.430000  3.958244e+06      9.000000  \n"
     ]
    }
   ],
   "source": [
    "# Use the describe function to gather some basic statistics\n",
    "print(df.describe())"
   ]
  },
  {
   "cell_type": "code",
   "execution_count": 63,
   "id": "b24b53cc",
   "metadata": {},
   "outputs": [
    {
     "name": "stdout",
     "output_type": "stream",
     "text": [
      "<class 'pandas.core.frame.DataFrame'>\n",
      "RangeIndex: 54639 entries, 0 to 54638\n",
      "Data columns (total 18 columns):\n",
      " #   Column       Non-Null Count  Dtype  \n",
      "---  ------       --------------  -----  \n",
      " 0   first        54639 non-null  object \n",
      " 1   last         54639 non-null  object \n",
      " 2   job          54639 non-null  object \n",
      " 3   phone        54639 non-null  object \n",
      " 4   email        54639 non-null  object \n",
      " 5   client_id    54639 non-null  int64  \n",
      " 6   order_id     54639 non-null  int64  \n",
      " 7   order_date   54639 non-null  object \n",
      " 8   order_week   54639 non-null  int64  \n",
      " 9   order_year   54639 non-null  int64  \n",
      " 10  item_id      54639 non-null  object \n",
      " 11  category     54639 non-null  object \n",
      " 12  subcategory  54639 non-null  object \n",
      " 13  unit_price   54639 non-null  float64\n",
      " 14  unit_cost    54639 non-null  float64\n",
      " 15  unit_weight  54639 non-null  float64\n",
      " 16  qty          54639 non-null  int64  \n",
      " 17  line_number  54639 non-null  int64  \n",
      "dtypes: float64(3), int64(6), object(9)\n",
      "memory usage: 7.5+ MB\n"
     ]
    }
   ],
   "source": [
    "# Use this space to do any additional research\n",
    "# and familiarize yourself with the data.\n",
    "df.info()"
   ]
  },
  {
   "cell_type": "code",
   "execution_count": 64,
   "id": "551cb358",
   "metadata": {},
   "outputs": [
    {
     "name": "stdout",
     "output_type": "stream",
     "text": [
      "category\n",
      "consumables    23538\n",
      "furniture      11915\n",
      "software        8400\n",
      "Name: count, dtype: int64\n"
     ]
    }
   ],
   "source": [
    "# What three item categories had the most entries?\n",
    "# Count the entries for each category\n",
    "category_counts = df['category'].value_counts()\n",
    "\n",
    "# Display the top 3 categories\n",
    "print(category_counts.head(3))\n"
   ]
  },
  {
   "cell_type": "code",
   "execution_count": 65,
   "id": "5f54e2cf",
   "metadata": {},
   "outputs": [
    {
     "name": "stdout",
     "output_type": "stream",
     "text": [
      "For the category 'consumables', the subcategory with the most entries is:\n",
      "subcategory\n",
      "bathroom supplies    6424\n",
      "Name: count, dtype: int64\n"
     ]
    }
   ],
   "source": [
    "# For the category with the most entries, which subcategory had the most entries?\n",
    "top_category = category_counts.index[0]\n",
    "\n",
    "# Filter the dataframe for the top category\n",
    "top_category_df = df[df['category'] == top_category]\n",
    "\n",
    "# Count the entries for each subcategory within the top category\n",
    "subcategory_counts = top_category_df['subcategory'].value_counts()\n",
    "\n",
    "# Display the top subcategory\n",
    "print(f\"For the category '{top_category}', the subcategory with the most entries is:\")\n",
    "print(subcategory_counts.head(1))\n"
   ]
  },
  {
   "cell_type": "code",
   "execution_count": 66,
   "id": "2db94379",
   "metadata": {},
   "outputs": [
    {
     "name": "stdout",
     "output_type": "stream",
     "text": [
      "Top 5 clients by number of entries:\n",
      "client_id\n",
      "33615    220\n",
      "66037    211\n",
      "46820    209\n",
      "38378    207\n",
      "24741    207\n",
      "Name: count, dtype: int64\n"
     ]
    }
   ],
   "source": [
    "# Which five clients had the most entries in the data?\n",
    "# Count the entries for each client\n",
    "client_counts = df['client_id'].value_counts()\n",
    "\n",
    "# Get the top 5 clients\n",
    "top_5_clients = client_counts.head(5)\n",
    "print(\"Top 5 clients by number of entries:\")\n",
    "print(top_5_clients)"
   ]
  },
  {
   "cell_type": "code",
   "execution_count": 67,
   "id": "a6635601",
   "metadata": {},
   "outputs": [
    {
     "name": "stdout",
     "output_type": "stream",
     "text": [
      "[33615, 66037, 46820, 38378, 24741]\n"
     ]
    }
   ],
   "source": [
    "# Store the client ids of those top 5 clients in a list.\n",
    "top_5_client_ids = top_5_clients.index.tolist()\n",
    "print(top_5_client_ids)"
   ]
  },
  {
   "cell_type": "code",
   "execution_count": 68,
   "id": "c88b8a3e",
   "metadata": {},
   "outputs": [
    {
     "name": "stdout",
     "output_type": "stream",
     "text": [
      "\n",
      "The client with the most entries (ID: 33615) ordered a total of 64313 units.\n"
     ]
    }
   ],
   "source": [
    "# How many total units (the qty column) did the client with the most entries order order?\n",
    "# Calculate total units ordered by the client with the most entries\n",
    "top_client_id = top_5_client_ids[0]\n",
    "top_client_total_units = df[df['client_id'] == top_client_id]['qty'].sum()\n",
    "\n",
    "print(f\"\\nThe client with the most entries (ID: {top_client_id}) ordered a total of {top_client_total_units} units.\")"
   ]
  },
  {
   "cell_type": "markdown",
   "id": "257fcd7d",
   "metadata": {},
   "source": [
    "## Part 2: Transform the Data\n",
    "Do we know that this client spent the more money than client 66037? If not, how would we find out? Transform the data using the steps below to prepare it for analysis."
   ]
  },
  {
   "cell_type": "code",
   "execution_count": 69,
   "id": "0c25c4a8",
   "metadata": {},
   "outputs": [
    {
     "name": "stdout",
     "output_type": "stream",
     "text": [
      "   unit_price  qty   subtotal\n",
      "0     1096.80  105  115164.00\n",
      "1       24.95   21     523.95\n",
      "2       13.52   39     527.28\n",
      "3       36.42   29    1056.18\n",
      "4      195.10   20    3902.00\n"
     ]
    }
   ],
   "source": [
    "# Create a column that calculates the subtotal for each line using the unit_price and the qty\n",
    "df['subtotal'] = df['unit_price'] * df['qty']\n",
    "print(df[['unit_price', 'qty', 'subtotal']].head())"
   ]
  },
  {
   "cell_type": "code",
   "execution_count": 70,
   "id": "ac9dafc8",
   "metadata": {},
   "outputs": [
    {
     "name": "stdout",
     "output_type": "stream",
     "text": [
      "   unit_price  unit_weight  qty  shipping_price\n",
      "0     1096.80         7.50  105         5512.50\n",
      "1       24.95         1.49   21          312.90\n",
      "2       13.52         1.68   39          458.64\n",
      "3       36.42         1.23   29          356.70\n",
      "4      195.10        46.43   20         6500.20\n"
     ]
    }
   ],
   "source": [
    "# Create a column for shipping price.\n",
    "# Assume a shipping price of $7 per pound for orders over 50 pounds and $10 per pound for items 50 pounds or under.\n",
    "def calculate_shipping(weight):\n",
    "    if weight > 50:\n",
    "        return 7  # $7 per pound for orders over 50 pounds\n",
    "    else:\n",
    "        return 10  # $10 per pound for items 50 pounds or under\n",
    "\n",
    "df['shipping_price'] = df.apply(lambda row: calculate_shipping(row['unit_weight'] * row['qty']) * row['unit_weight'] * row['qty'], axis=1)\n",
    "print(df[['unit_price', 'unit_weight', 'qty', 'shipping_price']].head())"
   ]
  },
  {
   "cell_type": "code",
   "execution_count": 71,
   "id": "77f42c67",
   "metadata": {},
   "outputs": [
    {
     "name": "stdout",
     "output_type": "stream",
     "text": [
      "    subtotal  shipping_price  total_price\n",
      "0  115164.00         5512.50    131839.08\n",
      "1     523.95          312.90       914.26\n",
      "2     527.28          458.64      1077.12\n",
      "3    1056.18          356.70      1543.57\n",
      "4    3902.00         6500.20     11364.40\n"
     ]
    }
   ],
   "source": [
    "# Create a column for the total price using the subtotal and the shipping price along with a sales tax of 9.25%\n",
    "df['total_price'] = ((df['subtotal'] + df['shipping_price']) * 1.0925).round(2)\n",
    "print(df[['subtotal', 'shipping_price', 'total_price']].head())"
   ]
  },
  {
   "cell_type": "code",
   "execution_count": 72,
   "id": "c82ad275",
   "metadata": {},
   "outputs": [
    {
     "name": "stdout",
     "output_type": "stream",
     "text": [
      "0    85597.05\n",
      "1      629.79\n",
      "2      765.18\n",
      "3     1077.35\n",
      "4     8663.60\n",
      "Name: line_cost, dtype: float64\n"
     ]
    }
   ],
   "source": [
    "# Create a column for the cost of each line using unit cost, qty, and\n",
    "# shipping price (assume the shipping cost is exactly what is charged to the client).\n",
    "df['line_cost'] = (df['unit_cost'] * df['qty']) + df['shipping_price']\n",
    "print(df['line_cost'].head())"
   ]
  },
  {
   "cell_type": "code",
   "execution_count": 73,
   "id": "e2389018",
   "metadata": {},
   "outputs": [
    {
     "name": "stdout",
     "output_type": "stream",
     "text": [
      "0    46242.03\n",
      "1      284.47\n",
      "2      311.94\n",
      "3      466.22\n",
      "4     2700.80\n",
      "Name: line_profit, dtype: float64\n"
     ]
    }
   ],
   "source": [
    "# Create a column for the profit of each line using line cost and line price\n",
    "df['line_profit'] = df['total_price'] - df['line_cost']\n",
    "print(df['line_profit'].head())"
   ]
  },
  {
   "cell_type": "markdown",
   "id": "ef6f62b1",
   "metadata": {},
   "source": [
    "## Part 3: Confirm your work\n",
    "You have email receipts showing that the total prices for 3 orders. Confirm that your calculations match the receipts. Remember, each order has multiple lines.\n",
    "\n",
    "Order ID 2742071 had a total price of \\$152,811.89\n",
    "\n",
    "Order ID 2173913 had a total price of \\$162,388.71\n",
    "\n",
    "Order ID 6128929 had a total price of \\$923,441.25\n"
   ]
  },
  {
   "cell_type": "code",
   "execution_count": 74,
   "id": "c0e5d68e",
   "metadata": {},
   "outputs": [
    {
     "name": "stdout",
     "output_type": "stream",
     "text": [
      "Order ID 2742071:\n",
      "Calculated total: $152811.89\n",
      "Expected total: $152811.89\n",
      "Difference: $0.00\n",
      "Percentage difference: 0.0000%\n",
      "\n",
      "Order ID 2173913:\n",
      "Calculated total: $162388.71\n",
      "Expected total: $162388.71\n",
      "Difference: $0.00\n",
      "Percentage difference: 0.0000%\n",
      "\n",
      "Order ID 6128929:\n",
      "Calculated total: $923441.25\n",
      "Expected total: $923441.25\n",
      "Difference: $0.00\n",
      "Percentage difference: 0.0000%\n",
      "\n",
      "    subtotal  shipping_price  total_price\n",
      "0  115164.00         5512.50    131839.08\n",
      "1     523.95          312.90       914.26\n",
      "2     527.28          458.64      1077.12\n",
      "3    1056.18          356.70      1543.57\n",
      "4    3902.00         6500.20     11364.40\n"
     ]
    }
   ],
   "source": [
    "# Check your work using the totals above\n",
    "# Function to get total price for a specific order\n",
    "def get_order_total(order_id):\n",
    "    order_total = df[df['order_id'] == order_id]['total_price'].sum()\n",
    "    return round(order_total, 2)\n",
    "\n",
    "# Check the three specific orders\n",
    "order_ids = [2742071, 2173913, 6128929]\n",
    "expected_totals = [152811.89, 162388.71, 923441.25]\n",
    "\n",
    "for order_id, expected_total in zip(order_ids, expected_totals):\n",
    "    calculated_total = get_order_total(order_id)\n",
    "    print(f\"Order ID {order_id}:\")\n",
    "    print(f\"Calculated total: ${calculated_total:.2f}\")\n",
    "    print(f\"Expected total: ${expected_total:.2f}\")\n",
    "    print(f\"Difference: ${abs(calculated_total - expected_total):.2f}\")\n",
    "    print(f\"Percentage difference: {abs(calculated_total - expected_total) / expected_total * 100:.4f}%\")\n",
    "    print()\n",
    "\n",
    "# Display a few rows to verify the update\n",
    "print(df[['subtotal', 'shipping_price', 'total_price']].head())"
   ]
  },
  {
   "cell_type": "markdown",
   "id": "b94d58ab",
   "metadata": {},
   "source": [
    "## Part 4: Summarize and Analyze\n",
    "Use the new columns with confirmed values to find the following information."
   ]
  },
  {
   "cell_type": "code",
   "execution_count": 81,
   "id": "7c005f34",
   "metadata": {},
   "outputs": [
    {
     "name": "stdout",
     "output_type": "stream",
     "text": [
      "Spending of top 5 clients by quantity:\n",
      "client_id\n",
      "24741    82268892.02\n",
      "38378    12906550.87\n",
      "66037    10259514.79\n",
      "46820     9743794.36\n",
      "33615     8377308.52\n",
      "Name: total_price, dtype: float64\n",
      "\n"
     ]
    }
   ],
   "source": [
    "# How much did each of the top 5 clients by quantity spend? Check your work from Part 1 for client ids.\n",
    "top_5_clients = df['client_id'].value_counts().head(5).index.tolist()\n",
    "\n",
    "client_spending = df[df['client_id'].isin(top_5_clients)].groupby('client_id')['total_price'].sum().sort_values(ascending=False)\n",
    "\n",
    "print(\"Spending of top 5 clients by quantity:\")\n",
    "print(client_spending)\n",
    "print()"
   ]
  },
  {
   "cell_type": "code",
   "execution_count": 87,
   "id": "81b6e4d2",
   "metadata": {},
   "outputs": [
    {
     "data": {
      "text/html": [
       "<div>\n",
       "<style scoped>\n",
       "    .dataframe tbody tr th:only-of-type {\n",
       "        vertical-align: middle;\n",
       "    }\n",
       "\n",
       "    .dataframe tbody tr th {\n",
       "        vertical-align: top;\n",
       "    }\n",
       "\n",
       "    .dataframe thead th {\n",
       "        text-align: right;\n",
       "    }\n",
       "</style>\n",
       "<table border=\"1\" class=\"dataframe\">\n",
       "  <thead>\n",
       "    <tr style=\"text-align: right;\">\n",
       "      <th></th>\n",
       "      <th>Total Units</th>\n",
       "      <th>Total Shipping</th>\n",
       "      <th>Total Revenue</th>\n",
       "      <th>Total Profit</th>\n",
       "    </tr>\n",
       "    <tr>\n",
       "      <th>client_id</th>\n",
       "      <th></th>\n",
       "      <th></th>\n",
       "      <th></th>\n",
       "      <th></th>\n",
       "    </tr>\n",
       "  </thead>\n",
       "  <tbody>\n",
       "    <tr>\n",
       "      <th>24741</th>\n",
       "      <td>239862</td>\n",
       "      <td>5126448.37</td>\n",
       "      <td>82268892.02</td>\n",
       "      <td>36579992.31</td>\n",
       "    </tr>\n",
       "    <tr>\n",
       "      <th>33615</th>\n",
       "      <td>64313</td>\n",
       "      <td>1828984.89</td>\n",
       "      <td>8377308.52</td>\n",
       "      <td>2201994.61</td>\n",
       "    </tr>\n",
       "    <tr>\n",
       "      <th>38378</th>\n",
       "      <td>73667</td>\n",
       "      <td>3429455.40</td>\n",
       "      <td>12906550.87</td>\n",
       "      <td>3271829.89</td>\n",
       "    </tr>\n",
       "    <tr>\n",
       "      <th>46820</th>\n",
       "      <td>75768</td>\n",
       "      <td>1601448.84</td>\n",
       "      <td>9743794.36</td>\n",
       "      <td>2736602.72</td>\n",
       "    </tr>\n",
       "    <tr>\n",
       "      <th>66037</th>\n",
       "      <td>43018</td>\n",
       "      <td>1395151.85</td>\n",
       "      <td>10259514.79</td>\n",
       "      <td>3255031.81</td>\n",
       "    </tr>\n",
       "  </tbody>\n",
       "</table>\n",
       "</div>"
      ],
      "text/plain": [
       "           Total Units  Total Shipping  Total Revenue  Total Profit\n",
       "client_id                                                          \n",
       "24741           239862      5126448.37    82268892.02   36579992.31\n",
       "33615            64313      1828984.89     8377308.52    2201994.61\n",
       "38378            73667      3429455.40    12906550.87    3271829.89\n",
       "46820            75768      1601448.84     9743794.36    2736602.72\n",
       "66037            43018      1395151.85    10259514.79    3255031.81"
      ]
     },
     "execution_count": 87,
     "metadata": {},
     "output_type": "execute_result"
    }
   ],
   "source": [
    "# Create a summary DataFrame showing the totals for the for the top 5 clients with the following information:\n",
    "# total units purchased, total shipping price, total revenue, and total profit. \n",
    "top_5_clients = df['client_id'].value_counts().head(5).index.tolist()\n",
    "summary_df = df[df['client_id'].isin(top_5_clients)].groupby('client_id').agg({\n",
    "    'qty': 'sum',\n",
    "    'shipping_price': 'sum',\n",
    "    'total_price': 'sum',\n",
    "    'line_profit': 'sum'\n",
    "}).rename(columns={\n",
    "    'qty': 'Total Units',\n",
    "    'shipping_price': 'Total Shipping',\n",
    "    'total_price': 'Total Revenue',\n",
    "    'line_profit': 'Total Profit'\n",
    "})\n",
    "summary_df.head()"
   ]
  },
  {
   "cell_type": "code",
   "execution_count": 88,
   "id": "7be02867",
   "metadata": {},
   "outputs": [
    {
     "data": {
      "text/html": [
       "<div>\n",
       "<style scoped>\n",
       "    .dataframe tbody tr th:only-of-type {\n",
       "        vertical-align: middle;\n",
       "    }\n",
       "\n",
       "    .dataframe tbody tr th {\n",
       "        vertical-align: top;\n",
       "    }\n",
       "\n",
       "    .dataframe thead th {\n",
       "        text-align: right;\n",
       "    }\n",
       "</style>\n",
       "<table border=\"1\" class=\"dataframe\">\n",
       "  <thead>\n",
       "    <tr style=\"text-align: right;\">\n",
       "      <th></th>\n",
       "      <th>Total Units</th>\n",
       "      <th>Total Shipping (Millions)</th>\n",
       "      <th>Total Revenue (Millions)</th>\n",
       "      <th>Total Profit (Millions)</th>\n",
       "    </tr>\n",
       "    <tr>\n",
       "      <th>client_id</th>\n",
       "      <th></th>\n",
       "      <th></th>\n",
       "      <th></th>\n",
       "      <th></th>\n",
       "    </tr>\n",
       "  </thead>\n",
       "  <tbody>\n",
       "    <tr>\n",
       "      <th>24741</th>\n",
       "      <td>239862</td>\n",
       "      <td>$5.13M</td>\n",
       "      <td>$82.27M</td>\n",
       "      <td>$36.58M</td>\n",
       "    </tr>\n",
       "    <tr>\n",
       "      <th>33615</th>\n",
       "      <td>64313</td>\n",
       "      <td>$1.83M</td>\n",
       "      <td>$8.38M</td>\n",
       "      <td>$2.20M</td>\n",
       "    </tr>\n",
       "    <tr>\n",
       "      <th>38378</th>\n",
       "      <td>73667</td>\n",
       "      <td>$3.43M</td>\n",
       "      <td>$12.91M</td>\n",
       "      <td>$3.27M</td>\n",
       "    </tr>\n",
       "    <tr>\n",
       "      <th>46820</th>\n",
       "      <td>75768</td>\n",
       "      <td>$1.60M</td>\n",
       "      <td>$9.74M</td>\n",
       "      <td>$2.74M</td>\n",
       "    </tr>\n",
       "    <tr>\n",
       "      <th>66037</th>\n",
       "      <td>43018</td>\n",
       "      <td>$1.40M</td>\n",
       "      <td>$10.26M</td>\n",
       "      <td>$3.26M</td>\n",
       "    </tr>\n",
       "  </tbody>\n",
       "</table>\n",
       "</div>"
      ],
      "text/plain": [
       "           Total Units Total Shipping (Millions) Total Revenue (Millions)  \\\n",
       "client_id                                                                   \n",
       "24741           239862                    $5.13M                  $82.27M   \n",
       "33615            64313                    $1.83M                   $8.38M   \n",
       "38378            73667                    $3.43M                  $12.91M   \n",
       "46820            75768                    $1.60M                   $9.74M   \n",
       "66037            43018                    $1.40M                  $10.26M   \n",
       "\n",
       "          Total Profit (Millions)  \n",
       "client_id                          \n",
       "24741                     $36.58M  \n",
       "33615                      $2.20M  \n",
       "38378                      $3.27M  \n",
       "46820                      $2.74M  \n",
       "66037                      $3.26M  "
      ]
     },
     "execution_count": 88,
     "metadata": {},
     "output_type": "execute_result"
    }
   ],
   "source": [
    "# Define the money columns\n",
    "money_columns = ['Total Shipping', 'Total Revenue', 'Total Profit']\n",
    "\n",
    "# Define a function that converts a dollar amount to millions\n",
    "def currency_format_millions(value):\n",
    "    return f\"${value / 1e6:.2f}M\"\n",
    "\n",
    "# Apply the currency_format_millions function to only the money columns\n",
    "for col in money_columns:\n",
    "    summary_df[col] = summary_df[col].apply(currency_format_millions)\n",
    "\n",
    "# Rename the columns to reflect the change in the money format\n",
    "summary_df = summary_df.rename(columns={\n",
    "    'Total Shipping': 'Total Shipping (Millions)',\n",
    "    'Total Revenue': 'Total Revenue (Millions)',\n",
    "    'Total Profit': 'Total Profit (Millions)'\n",
    "})\n",
    "summary_df.head()"
   ]
  },
  {
   "cell_type": "code",
   "execution_count": 86,
   "id": "8ead0986",
   "metadata": {},
   "outputs": [
    {
     "name": "stdout",
     "output_type": "stream",
     "text": [
      "Formatted summary for top 5 clients:\n",
      "           Total Units Total Shipping (Millions) Total Revenue (Millions)  \\\n",
      "client_id                                                                   \n",
      "24741           239862                    $5.13M                  $82.27M   \n",
      "38378            73667                    $3.43M                  $12.91M   \n",
      "66037            43018                    $1.40M                  $10.26M   \n",
      "46820            75768                    $1.60M                   $9.74M   \n",
      "33615            64313                    $1.83M                   $8.38M   \n",
      "\n",
      "          Total Profit (Millions)  \n",
      "client_id                          \n",
      "24741                     $36.58M  \n",
      "38378                      $3.27M  \n",
      "66037                      $3.26M  \n",
      "46820                      $2.74M  \n",
      "33615                      $2.20M  \n"
     ]
    }
   ],
   "source": [
    "# Sort the updated data by \"Total Profit (millions)\" form highest to lowest and assign the sort to a new DatFrame.\n",
    "summary_df = summary_df.sort_values('Total Profit (Millions)', ascending=False)\n",
    "\n",
    "print(\"Formatted summary for top 5 clients:\")\n",
    "print(summary_df)"
   ]
  },
  {
   "cell_type": "code",
   "execution_count": 89,
   "id": "caa61e86-923d-4172-af3e-b2670a626a4c",
   "metadata": {},
   "outputs": [
    {
     "name": "stdout",
     "output_type": "stream",
     "text": [
      "Summary of Findings:\n",
      "The top 5 clients by quantity account for 2.99% of total profit\n",
      "and 2.19% of total revenue.\n",
      "This concentration of business in a small number of clients suggests a potential\n",
      "risk if these key accounts were to be lost, but also presents opportunities for\n",
      "targeted relationship management and upselling to these high-value customers.\n"
     ]
    }
   ],
   "source": [
    "# Calculate some key metrics\n",
    "total_profit = df['line_profit'].sum()\n",
    "total_revenue = df['total_price'].sum()\n",
    "top_5_profit = summary_df['Total Profit (Millions)'].apply(lambda x: float(x.replace('$', '').replace('M', ''))).sum() * 1e6\n",
    "top_5_revenue = summary_df['Total Revenue (Millions)'].apply(lambda x: float(x.replace('$', '').replace('M', ''))).sum() * 1e6\n",
    "\n",
    "# Write a brief summary\n",
    "print(\"Summary of Findings:\")\n",
    "print(f\"The top 5 clients by quantity account for {top_5_profit/total_profit:.2%} of total profit\")\n",
    "print(f\"and {top_5_revenue/total_revenue:.2%} of total revenue.\")\n",
    "print(f\"This concentration of business in a small number of clients suggests a potential\")\n",
    "print(f\"risk if these key accounts were to be lost, but also presents opportunities for\")\n",
    "print(f\"targeted relationship management and upselling to these high-value customers.\")"
   ]
  },
  {
   "cell_type": "code",
   "execution_count": null,
   "id": "87e0e7f8-b60e-4e50-ab07-c36b6deed513",
   "metadata": {},
   "outputs": [],
   "source": []
  }
 ],
 "metadata": {
  "kernelspec": {
   "display_name": "Python 3 (ipykernel)",
   "language": "python",
   "name": "python3"
  },
  "language_info": {
   "codemirror_mode": {
    "name": "ipython",
    "version": 3
   },
   "file_extension": ".py",
   "mimetype": "text/x-python",
   "name": "python",
   "nbconvert_exporter": "python",
   "pygments_lexer": "ipython3",
   "version": "3.11.7"
  }
 },
 "nbformat": 4,
 "nbformat_minor": 5
}
